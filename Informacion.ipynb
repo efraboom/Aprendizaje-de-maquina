{
 "cells": [
  {
   "source": [
    "# Aprendizaje de Maquina\n",
    "\n",
    "En este trabajo vamos a realizar el analisis de una Base de datos descargada de la pagina datos.gov.co la cual consta de informacion referente a portales territoriales en  la que analizaremos la dispersion ed los datos."
   ],
   "cell_type": "markdown",
   "metadata": {}
  },
  {
   "source": [
    "importamos las librerias:"
   ],
   "cell_type": "markdown",
   "metadata": {}
  },
  {
   "source": [
    "import numpy as np \n",
    "import pandas as pd"
   ],
   "cell_type": "code",
   "metadata": {},
   "execution_count": 1,
   "outputs": []
  },
  {
   "cell_type": "code",
   "execution_count": 2,
   "metadata": {},
   "outputs": [],
   "source": [
    "from pytz import common_timezones, all_timezones\n",
    "import dateutil"
   ]
  },
  {
   "source": [
    "Leemos la base de datos y la guardamos en la variable datos"
   ],
   "cell_type": "markdown",
   "metadata": {}
  },
  {
   "cell_type": "code",
   "execution_count": 3,
   "metadata": {},
   "outputs": [],
   "source": [
    "informacion = pd.read_csv(\"Infectados.csv\")"
   ]
  },
  {
   "source": [
    "Verificando si hay valores nulos, para eliminar columanas no necesarias"
   ],
   "cell_type": "markdown",
   "metadata": {}
  },
  {
   "cell_type": "code",
   "execution_count": 4,
   "metadata": {},
   "outputs": [
    {
     "output_type": "execute_result",
     "data": {
      "text/plain": [
       "   Orden       control             fecha_examen fecha_recepcion       muestra  \\\n",
       "0      1  LABORATORIOS  2016-01-22T00:00:00.000           -   -  Sangre Total   \n",
       "1      2  LABORATORIOS  2016-01-23T00:00:00.000           -   -         Orina   \n",
       "2      3  LABORATORIOS  2016-02-19T00:00:00.000           -   -         Orina   \n",
       "3      4  LABORATORIOS  2016-03-27T00:00:00.000           -   -  Sangre Total   \n",
       "4      5  LABORATORIOS  2016-04-26T00:00:00.000           -   -  Sangre Total   \n",
       "\n",
       "  nombre_prueba          microorganismo fecha_expedicion semana   año  \\\n",
       "0   Hemocultivo  Enterobacter aerogenes            -   -  -   -  2016   \n",
       "1    Urocultivo   Klebsiella pneumoniae            -   -  -   -  2016   \n",
       "2    Urocultivo  Pseudomonas aeruginosa            -   -  -   -  2016   \n",
       "3   Hemocultivo    Enterobacter cloacae            -   -  -   -  2016   \n",
       "4   Hemocultivo   Klebsiella pneumoniae            -   -  -   -  2016   \n",
       "\n",
       "      ...     grupo_migrantes grupo_carcelario grupo_gestante grupo_indigente  \\\n",
       "0     ...                  No               No             No              No   \n",
       "1     ...                  No               No             No              No   \n",
       "2     ...                  No               No             No              No   \n",
       "3     ...                  No               No             No              No   \n",
       "4     ...                  No               No             No              No   \n",
       "\n",
       "  grupo_poblacion_icbf grupo_madres_comunitarias grupo_desmovizados  \\\n",
       "0                   No                        No                 No   \n",
       "1                   No                        No                 No   \n",
       "2                   No                        No                 No   \n",
       "3                   No                        No                 No   \n",
       "4                   No                        No                 No   \n",
       "\n",
       "  grupo_psiquiatrico grupo_victima_violencia grupo_otros  \n",
       "0                 No                      No          No  \n",
       "1                 No                      No          No  \n",
       "2                 No                      No          No  \n",
       "3                 No                      No          No  \n",
       "4                 No                      No          No  \n",
       "\n",
       "[5 rows x 36 columns]"
      ],
      "text/html": "<div>\n<style scoped>\n    .dataframe tbody tr th:only-of-type {\n        vertical-align: middle;\n    }\n\n    .dataframe tbody tr th {\n        vertical-align: top;\n    }\n\n    .dataframe thead th {\n        text-align: right;\n    }\n</style>\n<table border=\"1\" class=\"dataframe\">\n  <thead>\n    <tr style=\"text-align: right;\">\n      <th></th>\n      <th>Orden</th>\n      <th>control</th>\n      <th>fecha_examen</th>\n      <th>fecha_recepcion</th>\n      <th>muestra</th>\n      <th>nombre_prueba</th>\n      <th>microorganismo</th>\n      <th>fecha_expedicion</th>\n      <th>semana</th>\n      <th>año</th>\n      <th>...</th>\n      <th>grupo_migrantes</th>\n      <th>grupo_carcelario</th>\n      <th>grupo_gestante</th>\n      <th>grupo_indigente</th>\n      <th>grupo_poblacion_icbf</th>\n      <th>grupo_madres_comunitarias</th>\n      <th>grupo_desmovizados</th>\n      <th>grupo_psiquiatrico</th>\n      <th>grupo_victima_violencia</th>\n      <th>grupo_otros</th>\n    </tr>\n  </thead>\n  <tbody>\n    <tr>\n      <th>0</th>\n      <td>1</td>\n      <td>LABORATORIOS</td>\n      <td>2016-01-22T00:00:00.000</td>\n      <td>-   -</td>\n      <td>Sangre Total</td>\n      <td>Hemocultivo</td>\n      <td>Enterobacter aerogenes</td>\n      <td>-   -</td>\n      <td>-   -</td>\n      <td>2016</td>\n      <td>...</td>\n      <td>No</td>\n      <td>No</td>\n      <td>No</td>\n      <td>No</td>\n      <td>No</td>\n      <td>No</td>\n      <td>No</td>\n      <td>No</td>\n      <td>No</td>\n      <td>No</td>\n    </tr>\n    <tr>\n      <th>1</th>\n      <td>2</td>\n      <td>LABORATORIOS</td>\n      <td>2016-01-23T00:00:00.000</td>\n      <td>-   -</td>\n      <td>Orina</td>\n      <td>Urocultivo</td>\n      <td>Klebsiella pneumoniae</td>\n      <td>-   -</td>\n      <td>-   -</td>\n      <td>2016</td>\n      <td>...</td>\n      <td>No</td>\n      <td>No</td>\n      <td>No</td>\n      <td>No</td>\n      <td>No</td>\n      <td>No</td>\n      <td>No</td>\n      <td>No</td>\n      <td>No</td>\n      <td>No</td>\n    </tr>\n    <tr>\n      <th>2</th>\n      <td>3</td>\n      <td>LABORATORIOS</td>\n      <td>2016-02-19T00:00:00.000</td>\n      <td>-   -</td>\n      <td>Orina</td>\n      <td>Urocultivo</td>\n      <td>Pseudomonas aeruginosa</td>\n      <td>-   -</td>\n      <td>-   -</td>\n      <td>2016</td>\n      <td>...</td>\n      <td>No</td>\n      <td>No</td>\n      <td>No</td>\n      <td>No</td>\n      <td>No</td>\n      <td>No</td>\n      <td>No</td>\n      <td>No</td>\n      <td>No</td>\n      <td>No</td>\n    </tr>\n    <tr>\n      <th>3</th>\n      <td>4</td>\n      <td>LABORATORIOS</td>\n      <td>2016-03-27T00:00:00.000</td>\n      <td>-   -</td>\n      <td>Sangre Total</td>\n      <td>Hemocultivo</td>\n      <td>Enterobacter cloacae</td>\n      <td>-   -</td>\n      <td>-   -</td>\n      <td>2016</td>\n      <td>...</td>\n      <td>No</td>\n      <td>No</td>\n      <td>No</td>\n      <td>No</td>\n      <td>No</td>\n      <td>No</td>\n      <td>No</td>\n      <td>No</td>\n      <td>No</td>\n      <td>No</td>\n    </tr>\n    <tr>\n      <th>4</th>\n      <td>5</td>\n      <td>LABORATORIOS</td>\n      <td>2016-04-26T00:00:00.000</td>\n      <td>-   -</td>\n      <td>Sangre Total</td>\n      <td>Hemocultivo</td>\n      <td>Klebsiella pneumoniae</td>\n      <td>-   -</td>\n      <td>-   -</td>\n      <td>2016</td>\n      <td>...</td>\n      <td>No</td>\n      <td>No</td>\n      <td>No</td>\n      <td>No</td>\n      <td>No</td>\n      <td>No</td>\n      <td>No</td>\n      <td>No</td>\n      <td>No</td>\n      <td>No</td>\n    </tr>\n  </tbody>\n</table>\n<p>5 rows × 36 columns</p>\n</div>"
     },
     "metadata": {},
     "execution_count": 4
    }
   ],
   "source": [
    "informacion.head()"
   ]
  },
  {
   "cell_type": "code",
   "execution_count": 115,
   "metadata": {
    "scrolled": false
   },
   "outputs": [
    {
     "output_type": "execute_result",
     "data": {
      "text/plain": [
       "Orden                         int64\n",
       "control                      object\n",
       "fecha_examen                 object\n",
       "fecha_recepcion              object\n",
       "muestra                      object\n",
       "nombre_prueba                object\n",
       "microorganismo               object\n",
       "fecha_expedicion             object\n",
       "semana                       object\n",
       "año                           int64\n",
       "edad                         object\n",
       "grupo_etario                 object\n",
       "curso_de vida                object\n",
       "sexo                         object\n",
       "barrio_vereda                object\n",
       "tipo_seguridad_social        object\n",
       "estrato                      object\n",
       "tipo_caso                    object\n",
       "condicion_final              object\n",
       "tipo_uci                     object\n",
       "departamento_procedencia     object\n",
       "municipio_procedencia        object\n",
       "departamento_residencia      object\n",
       "municipio_residencia         object\n",
       "grupo_discapacidad           object\n",
       "grupo_desplazados            object\n",
       "grupo_migrantes              object\n",
       "grupo_carcelario             object\n",
       "grupo_gestante               object\n",
       "grupo_indigente              object\n",
       "grupo_poblacion_icbf         object\n",
       "grupo_madres_comunitarias    object\n",
       "grupo_desmovizados           object\n",
       "grupo_psiquiatrico           object\n",
       "grupo_victima_violencia      object\n",
       "grupo_otros                  object\n",
       "dtype: object"
      ]
     },
     "metadata": {},
     "execution_count": 115
    }
   ],
   "source": [
    "datos.dtypes"
   ]
  },
  {
   "cell_type": "markdown",
   "metadata": {},
   "source": [
    "Eliminando columnas"
   ]
  },
  {
   "cell_type": "code",
   "execution_count": 5,
   "metadata": {},
   "outputs": [],
   "source": [
    "informacion = informacion.drop(columns=[\"Orden\",\"control\",\"fecha_examen\",\"fecha_recepcion\",\"muestra\",\"nombre_prueba\",\"microorganismo\",\"fecha_expedicion\",\"semana\",\"año\",\"edad\",\"grupo_etario\",\"curso_de vida\",\"sexo\",\"barrio_vereda\",\"tipo_seguridad_social\",\"estrato\",\"tipo_caso\",\"condicion_final\",\"tipo_uci\",\"departamento_procedencia\",\"departamento_residencia\",\"municipio_residencia\",\"municipio_procedencia\"])"
   ]
  },
  {
   "source": [
    "Mostrando a ver si hay datos nulos"
   ],
   "cell_type": "markdown",
   "metadata": {}
  },
  {
   "cell_type": "code",
   "execution_count": 7,
   "metadata": {},
   "outputs": [
    {
     "output_type": "execute_result",
     "data": {
      "text/plain": [
       "grupo_discapacidad           0\n",
       "grupo_desplazados            0\n",
       "grupo_migrantes              0\n",
       "grupo_carcelario             0\n",
       "grupo_gestante               0\n",
       "grupo_indigente              0\n",
       "grupo_poblacion_icbf         0\n",
       "grupo_madres_comunitarias    0\n",
       "grupo_desmovizados           0\n",
       "grupo_psiquiatrico           0\n",
       "grupo_victima_violencia      0\n",
       "grupo_otros                  0\n",
       "dtype: int64"
      ]
     },
     "metadata": {},
     "execution_count": 7
    }
   ],
   "source": [
    "informacion.isna().sum()"
   ]
  },
  {
   "cell_type": "code",
   "execution_count": 8,
   "metadata": {},
   "outputs": [
    {
     "output_type": "execute_result",
     "data": {
      "text/plain": [
       "grupo_discapacidad           object\n",
       "grupo_desplazados            object\n",
       "grupo_migrantes              object\n",
       "grupo_carcelario             object\n",
       "grupo_gestante               object\n",
       "grupo_indigente              object\n",
       "grupo_poblacion_icbf         object\n",
       "grupo_madres_comunitarias    object\n",
       "grupo_desmovizados           object\n",
       "grupo_psiquiatrico           object\n",
       "grupo_victima_violencia      object\n",
       "grupo_otros                  object\n",
       "dtype: object"
      ]
     },
     "metadata": {},
     "execution_count": 8
    }
   ],
   "source": [
    "informacion.dtypes"
   ]
  },
  {
   "source": [
    "Convirtiendo de datos ategoricos a numericos"
   ],
   "cell_type": "markdown",
   "metadata": {}
  },
  {
   "cell_type": "code",
   "execution_count": 9,
   "metadata": {},
   "outputs": [],
   "source": [
    "informacion=pd.get_dummies(informacion, columns=[\"grupo_discapacidad\",\"grupo_desplazados\",\"grupo_migrantes\",\"grupo_carcelario\",\"grupo_gestante\",\"grupo_indigente\",\"grupo_poblacion_icbf\",\"grupo_madres_comunitarias\",\"grupo_desmovizados\",\"grupo_psiquiatrico\",\"grupo_victima_violencia\",\"grupo_otros\"], drop_first=True)"
   ]
  },
  {
   "cell_type": "code",
   "execution_count": 10,
   "metadata": {},
   "outputs": [
    {
     "output_type": "execute_result",
     "data": {
      "text/plain": [
       "grupo_discapacidad_Si           uint8\n",
       "grupo_migrantes_Si              uint8\n",
       "grupo_carcelario_Si             uint8\n",
       "grupo_gestante_Si               uint8\n",
       "grupo_madres_comunitarias_No    uint8\n",
       "grupo_madres_comunitarias_Si    uint8\n",
       "grupo_desmovizados_Si           uint8\n",
       "grupo_psiquiatrico_Si           uint8\n",
       "grupo_otros_Si                  uint8\n",
       "dtype: object"
      ]
     },
     "metadata": {},
     "execution_count": 10
    }
   ],
   "source": [
    "informacion.dtypes"
   ]
  },
  {
   "source": [
    "Mostrando datos con la libreria matplotlib"
   ],
   "cell_type": "markdown",
   "metadata": {}
  },
  {
   "cell_type": "code",
   "execution_count": 13,
   "metadata": {},
   "outputs": [
    {
     "output_type": "display_data",
     "data": {
      "text/plain": "<Figure size 1152x648 with 9 Axes>",
      "image/png": "[encoded data removed]"
     },
     "metadata": {}
    }
   ],
   "source": [
    "import matplotlib.pyplot as plt\n",
    "informacion.hist()\n",
    "plt.rcParams['figure.figsize'] = (16, 9)\n",
    "plt.style.use('ggplot')\n",
    "plt.show()"
   ]
  },
  {
   "source": [
    "Aplicando el algoritmo de agrupamiento"
   ],
   "cell_type": "markdown",
   "metadata": {}
  },
  {
   "cell_type": "code",
   "execution_count": 14,
   "metadata": {},
   "outputs": [
    {
     "output_type": "execute_result",
     "data": {
      "text/plain": [
       "array([[0, 0, 0, ..., 0, 0, 0],\n",
       "       [0, 0, 0, ..., 0, 0, 0],\n",
       "       [0, 0, 0, ..., 0, 0, 0],\n",
       "       ...,\n",
       "       [0, 0, 0, ..., 0, 0, 1],\n",
       "       [0, 0, 0, ..., 0, 0, 1],\n",
       "       [0, 0, 0, ..., 0, 0, 1]], dtype=uint8)"
      ]
     },
     "metadata": {},
     "execution_count": 14
    }
   ],
   "source": [
    "informacion_data = np.array(informacion)\n",
    "informacion_data"
   ]
  },
  {
   "cell_type": "code",
   "execution_count": 28,
   "metadata": {},
   "outputs": [
    {
     "output_type": "execute_result",
     "data": {
      "text/plain": [
       "90"
      ]
     },
     "metadata": {},
     "execution_count": 28
    }
   ],
   "source": [
    "from sklearn.cluster import KMeans\n",
    "from sklearn.metrics import pairwise_distances_argmin_min\n",
    "KMeans = KMeans(n_clusters=10).fit(informacion_data)\n",
    "centros = KMeans.cluster_centers_\n",
    "centros.size\n"
   ]
  },
  {
   "cell_type": "code",
   "execution_count": 29,
   "metadata": {},
   "outputs": [
    {
     "output_type": "execute_result",
     "data": {
      "text/plain": [
       "<matplotlib.collections.PathCollection at 0x7f2575450e10>"
      ]
     },
     "metadata": {},
     "execution_count": 29
    },
    {
     "output_type": "display_data",
     "data": {
      "text/plain": "<Figure size 1152x648 with 1 Axes>",
      "image/png": "[encoded data removed]"
     },
     "metadata": {}
    }
   ],
   "source": [
    "colores=['red','green','blue','yellow']\n",
    "\n",
    "plt.scatter(centros[:, 0], centros[:, 5], marker='*', c=colores, s=1000)\n",
    "\n"
   ]
  },
  {
   "source": [
    "Esta grafica nos da a entender que en los datos laestan bastante dispersos,"
   ],
   "cell_type": "code",
   "metadata": {},
   "execution_count": null,
   "outputs": []
  }
 ],
 "metadata": {
  "kernelspec": {
   "name": "python355jvsc74a57bd0c130879e3062e9d13df4454831b66e31bb7a54b3c23c63b943ec2126cbd690a6",
   "display_name": "Python 3.5.5 64-bit ('smartsystem': conda)"
  },
  "language_info": {
   "codemirror_mode": {
    "name": "ipython",
    "version": 3
   },
   "file_extension": ".py",
   "mimetype": "text/x-python",
   "name": "python",
   "nbconvert_exporter": "python",
   "pygments_lexer": "ipython3",
   "version": "3.5.5"
  }
 },
 "nbformat": 4,
 "nbformat_minor": 2
}